{
  "cells": [
    {
      "cell_type": "markdown",
      "metadata": {
        "id": "view-in-github",
        "colab_type": "text"
      },
      "source": [
        "<a href=\"https://colab.research.google.com/github/hpink97/loan_default_predictor/blob/main/03_ml_preprocessing_and_training.ipynb\" target=\"_parent\"><img src=\"https://colab.research.google.com/assets/colab-badge.svg\" alt=\"Open In Colab\"/></a>"
      ]
    },
    {
      "cell_type": "markdown",
      "metadata": {
        "id": "d5ELy8HZg-mb"
      },
      "source": [
        "# **Data preprocessing and Model training** 💻\n",
        "\n"
      ]
    },
    {
      "cell_type": "markdown",
      "metadata": {
        "id": "uaRJh51_49sg"
      },
      "source": [
        "\n",
        "### Load modules"
      ]
    },
    {
      "cell_type": "code",
      "execution_count": null,
      "metadata": {
        "id": "3rWjb4lu8lqP",
        "colab": {
          "base_uri": "https://localhost:8080/"
        },
        "outputId": "53f7417c-e483-4696-8eb1-b719bf28b7da"
      },
      "outputs": [
        {
          "output_type": "stream",
          "name": "stdout",
          "text": [
            "Looking in indexes: https://pypi.org/simple, https://us-python.pkg.dev/colab-wheels/public/simple/\n",
            "Requirement already satisfied: bayesian-optimization in /usr/local/lib/python3.10/dist-packages (1.4.3)\n",
            "Requirement already satisfied: numpy>=1.9.0 in /usr/local/lib/python3.10/dist-packages (from bayesian-optimization) (1.22.4)\n",
            "Requirement already satisfied: scipy>=1.0.0 in /usr/local/lib/python3.10/dist-packages (from bayesian-optimization) (1.10.1)\n",
            "Requirement already satisfied: scikit-learn>=0.18.0 in /usr/local/lib/python3.10/dist-packages (from bayesian-optimization) (1.2.2)\n",
            "Requirement already satisfied: colorama>=0.4.6 in /usr/local/lib/python3.10/dist-packages (from bayesian-optimization) (0.4.6)\n",
            "Requirement already satisfied: joblib>=1.1.1 in /usr/local/lib/python3.10/dist-packages (from scikit-learn>=0.18.0->bayesian-optimization) (1.2.0)\n",
            "Requirement already satisfied: threadpoolctl>=2.0.0 in /usr/local/lib/python3.10/dist-packages (from scikit-learn>=0.18.0->bayesian-optimization) (3.1.0)\n",
            "Looking in indexes: https://pypi.org/simple, https://us-python.pkg.dev/colab-wheels/public/simple/\n",
            "Requirement already satisfied: miceforest in /usr/local/lib/python3.10/dist-packages (5.6.3)\n",
            "Requirement already satisfied: lightgbm>=3.3.1 in /usr/local/lib/python3.10/dist-packages (from miceforest) (3.3.5)\n",
            "Requirement already satisfied: numpy in /usr/local/lib/python3.10/dist-packages (from miceforest) (1.22.4)\n",
            "Requirement already satisfied: blosc in /usr/local/lib/python3.10/dist-packages (from miceforest) (1.11.1)\n",
            "Requirement already satisfied: dill in /usr/local/lib/python3.10/dist-packages (from miceforest) (0.3.6)\n",
            "Requirement already satisfied: wheel in /usr/local/lib/python3.10/dist-packages (from lightgbm>=3.3.1->miceforest) (0.40.0)\n",
            "Requirement already satisfied: scipy in /usr/local/lib/python3.10/dist-packages (from lightgbm>=3.3.1->miceforest) (1.10.1)\n",
            "Requirement already satisfied: scikit-learn!=0.22.0 in /usr/local/lib/python3.10/dist-packages (from lightgbm>=3.3.1->miceforest) (1.2.2)\n",
            "Requirement already satisfied: joblib>=1.1.1 in /usr/local/lib/python3.10/dist-packages (from scikit-learn!=0.22.0->lightgbm>=3.3.1->miceforest) (1.2.0)\n",
            "Requirement already satisfied: threadpoolctl>=2.0.0 in /usr/local/lib/python3.10/dist-packages (from scikit-learn!=0.22.0->lightgbm>=3.3.1->miceforest) (3.1.0)\n"
          ]
        }
      ],
      "source": [
        "!pip install bayesian-optimization\n",
        "!pip install miceforest --no-cache-dir"
      ]
    },
    {
      "cell_type": "code",
      "execution_count": null,
      "metadata": {
        "id": "4zBpXMg7jyhX"
      },
      "outputs": [],
      "source": [
        "\n",
        "import pandas as pd\n",
        "import numpy as np \n",
        "import gc #free up memory\n",
        "import seaborn as sns\n",
        "import matplotlib.pyplot as plt\n",
        "import miceforest as mf ##forest based imputation\n",
        "\n",
        "\n",
        "import xgboost as xgb\n",
        "from bayes_opt import BayesianOptimization\n",
        "from sklearn.model_selection import cross_val_score\n",
        "from sklearn.metrics import f1_score, accuracy_score, precision_score, recall_score, roc_auc_score, balanced_accuracy_score,precision_recall_curve,roc_curve, auc\n",
        "\n",
        "from sklearn.preprocessing import RobustScaler,StandardScaler, LabelEncoder\n",
        "from sklearn.model_selection import train_test_split\n",
        "from sklearn.feature_selection import SelectKBest, mutual_info_classif,f_classif \n"
      ]
    },
    {
      "cell_type": "markdown",
      "metadata": {
        "id": "20oBBUx8NDiC"
      },
      "source": [
        "## `Dataset` class for ML preprocessing\n",
        "\n",
        "The `Dataset` class is designed to handle the preprocessing and splitting of a dataset for machine learning tasks. Here is a summary of its functionality:\n",
        "\n",
        "1. Initialization: The class takes in a pandas DataFrame (`df`) representing the dataset and the target variable (`target`). It also accepts additional parameters like `is_test` to indicate if the dataset is a test set, `scaler` for scaling numeric columns, and `trained_cols` for indicating specific columns to be used in the final dataset.\n",
        "\n",
        "2. Preprocessing: The `preprocess()` method performs preprocessing tasks on the dataset. It includes basic imputations for missing values, smart imputations using the `miceforest` package for remaining missing values, scaling of numeric columns, and label encoding for binary columns. It also performs one-hot encoding for categorical columns.\n",
        "\n",
        "3. Splitting Data: The `split_data()` method splits the preprocessed dataset into training, evaluation, and testing sets. It takes parameters like `test_size` and `eval_size` to control the size of the test and evaluation sets, respectively. It prints information about the sizes and positive rates of each split.\n"
      ]
    },
    {
      "cell_type": "code",
      "execution_count": null,
      "metadata": {
        "id": "eOPZJPLIoYyT"
      },
      "outputs": [],
      "source": [
        "class Dataset:\n",
        "    def __init__(self, df, target,is_test=False, scaler=None, trained_cols = None):\n",
        "      input_df = df.copy()\n",
        "      self.is_test = is_test\n",
        "      self.target = target\n",
        "      self.X_train = None\n",
        "      self.X_test = None\n",
        "      self.X_eval = None\n",
        "      self.y_eval = None\n",
        "      self.y_train = None\n",
        "      self.y_test = None\n",
        "      self.preprocessed = False\n",
        "      self.scaler = scaler\n",
        "      self.label_encoders = None\n",
        "      if self.is_test:\n",
        "        self.y = None\n",
        "        self.X = input_df\n",
        "      else:\n",
        "        self.y = input_df[self.target]\n",
        "        self.X = input_df.drop(columns=[self.target])\n",
        "\n",
        "    ##method to pre-process the df\n",
        "    def preprocess(self, impute_dict=None, final_X_cols= None,\n",
        "                   imputation_kernel_iterations = 4, imputation_kernel_ntrees = 50):\n",
        "       # Basic imputations\n",
        "      if impute_dict is not None:\n",
        "        print(f'Performing basic imputations based on {len(impute_dict)} features supplied impute_dict')\n",
        "        for col, strategy in impute_dict.items():\n",
        "          if col not in self.X.columns:\n",
        "            print(f\"Skipping imputation for column '{col}' as it does not exist in the dataset.\")\n",
        "            continue\n",
        "          if strategy == 'mean':\n",
        "              self.X[col].fillna(self.X[col].mean(), inplace=True)\n",
        "          elif strategy == 'median':\n",
        "              self.X[col].fillna(self.X[col].median(), inplace=True)\n",
        "          elif isinstance(strategy, str) and strategy.startswith('percentile_'):\n",
        "              percentile = float(strategy.split('_')[1])\n",
        "              self.X[col].fillna(self.X[col].quantile(percentile / 100), inplace=True)\n",
        "          elif isinstance(strategy, (int, float)):\n",
        "              self.X[col].fillna(strategy, inplace=True)\n",
        "          else:\n",
        "              raise ValueError(f\"Invalid imputation strategy for column '{col}'.\")\n",
        "    #find numeric columns\n",
        "      numeric_cols = self.X.select_dtypes(include=['int64', 'float64']).columns\n",
        "      print(numeric_cols)\n",
        "\n",
        "      ## smart impuations - decision tree based method\n",
        "      count_NA = self.X.isna().sum()\n",
        "      remaining_NA_cols = count_NA[count_NA>0].shape[0]\n",
        "      print(remaining_NA_cols)\n",
        "      if  remaining_NA_cols> 0:\n",
        "        print(f'Performing decision-tree based imputations of {remaining_NA_cols} remaining features with missing data')\n",
        "        kernal = mf.ImputationKernel(\n",
        "            self.X[numeric_cols],\n",
        "            random_state=42\n",
        "            )\n",
        "        # Run the MICE algorithm for 2 iterations\n",
        "        kernal.mice(iterations=imputation_kernel_iterations,\n",
        "                    n_estimators=imputation_kernel_ntrees)\n",
        "        X_numeric_imputed = kernal.complete_data()\n",
        "        self.X[numeric_cols] = X_numeric_imputed\n",
        "      \n",
        "      ##scale numeric cols\n",
        "      print('Scaling numeric data')\n",
        "      if self.scaler is None:\n",
        "        self.scaler = StandardScaler()\n",
        "        self.X[numeric_cols] = self.scaler.fit_transform(self.X[numeric_cols])\n",
        "      else:\n",
        "        scaler_trained_features = self.scaler.feature_names_in_\n",
        "        missing_cols = set(scaler_trained_features) - set(self.X.columns)\n",
        "        if len(missing_cols) >0:\n",
        "          print(f\"{len(missing_cols)} variables that scaler was originally trained on are missing - will replace with zeros\")\n",
        "          for col in missing_cols:\n",
        "            self.X[col] = 0\n",
        "        self.X[scaler_trained_features] = self.scaler.transform(self.X[scaler_trained_features])\n",
        "  \n",
        "      \n",
        "      # Perform label encoding for binary columns\n",
        "      print('One-hot-encoding categorical vars')\n",
        "      binary_cols = [col for col in self.X.columns if self.X[col].nunique() == 2]\n",
        "      self.label_encoders = {}\n",
        "\n",
        "      # Label encode binary columns\n",
        "      for col in binary_cols:\n",
        "          label_encoder = LabelEncoder()\n",
        "          self.X[col] = label_encoder.fit_transform(self.X[col])\n",
        "          # Store the label encoder for later use\n",
        "          self.label_encoders[col] = label_encoder\n",
        "      \n",
        "      # Perform one-hot encoding for categorical columns\n",
        "      categorical_cols = [col for col in self.X.columns if self.X[col].dtype == 'object' and col not in binary_cols]\n",
        "      self.X = pd.get_dummies(self.X, columns=categorical_cols)\n",
        "\n",
        "      if final_X_cols is not None:\n",
        "        print('splicing dataset to include only final_X_cols columns')\n",
        "        missing_cols = set(final_X_cols) - set(self.X.columns)\n",
        "        for col in missing_cols:\n",
        "          self.X[col] = 0\n",
        "        self.X = self.X[final_X_cols]\n",
        "\n",
        "      self.preprocessed = True\n",
        "    \n",
        "\n",
        "    def split_data(self, test_size=0.15,eval_size = 0.15, random_state=42):\n",
        "        if not self.preprocessed:\n",
        "          raise RuntimeError(\"Data has not been preprocessed. Please run the preprocess method.\")\n",
        "        \n",
        "        if self.is_test:\n",
        "          raise RuntimeError(\"Cannot run split_data() method on a test set\")\n",
        "\n",
        "        \n",
        "        X_train_eval, self.X_test, y_train_eval, self.y_test = train_test_split(\n",
        "            self.X, self.y, test_size=test_size, random_state=random_state\n",
        "        )\n",
        "\n",
        "        eval_split_size = eval_size/(1-test_size)\n",
        "        self.X_train, self.X_eval, self.y_train, self.y_eval = train_test_split(\n",
        "            X_train_eval, y_train_eval, test_size=eval_split_size, random_state=random_state)\n",
        "\n",
        "        print(f\"{self.X_train.shape[0]} training samples, {self.X_eval.shape[0]} evaluation samples and {self.X_test.shape[0]} testing samples\")\n",
        "        print(f\"{self.y_train.sum()} ({self.y_train.mean()*100:.3f}%) positives in training set\")\n",
        "        print(f\"{self.y_eval.sum()} ({self.y_eval.mean()*100:.3f}%) positives in evaluation set\")\n",
        "        print(f\"{self.y_test.sum()} ({self.y_test.mean()*100:.3f})% positives in testing set\")\n"
      ]
    },
    {
      "cell_type": "markdown",
      "metadata": {
        "id": "3CwoN_eXKBWf"
      },
      "source": [
        "## `Model` Class for training xgboost models\n",
        "\n",
        "The model class provides a streamlined workflow for feature selection, model training, and evaluation of xgboost models.\n",
        "\n",
        "Here is a summary of the key features and methods of the Model class:\n",
        "\n",
        "\n",
        "\n",
        "1.   **Initialisation**: The class is initialized with the necessary input data using the `Dataset` class, including the training and test sets (`X_train`, `X_test`) and their corresponding target variables (`y_train`, `y_test`).\n",
        "2.   **Feature Selection**: The `select_features()` method allows you to perform feature selection using the `sklearn.feature_selection.SelectKBest` algorithm. It selects the top num_features based on mutual information classification scores.\n",
        "3. **Model Training**: The `train_model()` method trains an XGBoost classifier using the specified xgboost_params. It uses the training data and evaluates the model's performance on the evaluation set (`X_eval`, `y_eval`). Early stopping is implemented to prevent overfitting.\n",
        "4. **Model Evaluation**: The `evaluate_model()` method calculates and prints various evaluation metrics, including F1 score, accuracy, precision, recall, specificity, ROC AUC score, and balanced accuracy. It also selects the optimal threshold for determining binary predictions based on the F1 score.\n",
        "5. **Performance Visualisation**: The class provides several plotting methods to visualise model performance, including `plot_roc_auc()` to visualize the ROC curve and calculate the AUC score, `plot_predictions()` to plot the predicted probabilities against the true labels, and `plot_feature_importance()` to display the feature importances using a bar plot."
      ]
    },
    {
      "cell_type": "code",
      "execution_count": null,
      "metadata": {
        "id": "1ElsCYmYhEgR"
      },
      "outputs": [],
      "source": [
        "class Model:\n",
        "    ##initialise the model class - taking instance of `Dataset` class an input\n",
        "    def __init__(self, dataset_class):\n",
        "        if not isinstance(dataset_class.X_train, pd.DataFrame) or not isinstance(dataset_class.X_test, pd.DataFrame):\n",
        "            raise TypeError(\"X_train and X_test must be pandas DataFrames\")\n",
        "        if not isinstance(dataset_class.y_train, pd.Series) or not isinstance(dataset_class.y_test, pd.Series):\n",
        "            raise TypeError(\"y_train and y_test must be pandas Series\")\n",
        "        ## take train-eval-test split datasets from input\n",
        "        self.X_train = dataset_class.X_train\n",
        "        self.X_eval = dataset_class.X_eval\n",
        "        self.X_test = dataset_class.X_test\n",
        "        self.y_train = dataset_class.y_train\n",
        "        self.y_eval = dataset_class.y_eval\n",
        "        self.y_test = dataset_class.y_test\n",
        "        ##set up attributes to be used later\n",
        "        self.y_pred = None\n",
        "        self.xgboost_params = None\n",
        "        self.num_features = None\n",
        "        self.feature_names = dataset_class.X_train.columns\n",
        "        self.selected_features = None\n",
        "        self.model = None\n",
        "        self.is_model_trained = False\n",
        "\n",
        "\n",
        "    ##define method to select best n features in dataset\n",
        "    ##basically a wrapper for SelectKBest from sklearn\n",
        "    def select_features(self, num_features):\n",
        "      if not isinstance(num_features, int) :\n",
        "        raise TypeError(\"num_features must be an int\")\n",
        "\n",
        "      #ensure num features is in correct range\n",
        "      num_features = max(min(int(num_features), self.X_train.shape[1]), 2)\n",
        "      ##perform feature selection\n",
        "      selector = SelectKBest(score_func=f_classif, k=num_features)\n",
        "      selector.fit(self.X_train, self.y_train)\n",
        "      mask = selector.get_support()\n",
        "      ##splice X datasets for the selected features\n",
        "      self.selected_features = self.feature_names[mask]\n",
        "      self.X_train = self.X_train[self.selected_features]\n",
        "      self.X_eval = self.X_eval[self.selected_features]\n",
        "      self.X_test = self.X_test[self.selected_features]\n",
        "    \n",
        "\n",
        "    ## defne method to train the classifier\n",
        "    def train_model(self, \n",
        "                    xgboost_params,\n",
        "                    print_training_evaluation=False ,\n",
        "                    num_boost_round=700,\n",
        "                    early_stopping_rounds=20):\n",
        "      self.xgboost_params = xgboost_params\n",
        "      ##create xgb Matrix objects for datasets\n",
        "      dtrain = xgb.DMatrix(self.X_train, label=self.y_train)\n",
        "      ##\n",
        "      deval = xgb.DMatrix(self.X_eval, label = self.y_eval)\n",
        "      self.model = xgb.train(self.xgboost_params,\n",
        "                             dtrain = dtrain, \n",
        "                             evals=[(deval, 'eval')],\n",
        "                             verbose_eval=print_training_evaluation,\n",
        "                             num_boost_round=num_boost_round,\n",
        "                             early_stopping_rounds=early_stopping_rounds )\n",
        "      print('Model training completed')\n",
        "      self.is_model_trained = True\n",
        "\n",
        "    def roc_auc(self):\n",
        "      if not self.is_model_trained:\n",
        "          raise RuntimeError(\"Model must be trained before it can be evaluated\")\n",
        "      if self.y_pred is None:\n",
        "        dtest = xgb.DMatrix(self.X_test)\n",
        "        self.y_pred = self.model.predict(dtest)\n",
        "\n",
        "      roc_auc = roc_auc_score(self.y_test, self.y_pred)\n",
        "\n",
        "      return roc_auc\n",
        "    \n",
        "    def evaluate_model(self):\n",
        "      if not self.is_model_trained:\n",
        "          raise RuntimeError(\"Model must be trained before it can be evaluated\")\n",
        "      if self.y_pred is None:\n",
        "        dtest = xgb.DMatrix(self.X_test)\n",
        "        self.y_pred = self.model.predict(dtest)\n",
        "      ##select best threshold for determining \n",
        "      best_threshold = 0\n",
        "      best_f1 = 0\n",
        "      \n",
        "      # Iterate over different threshold values\n",
        "      for threshold in np.arange(0.1, 1.0, 0.05):\n",
        "          y_pred_binary = (self.y_pred >= threshold).astype(int)\n",
        "          f1 = f1_score(self.y_test, y_pred_binary)\n",
        "\n",
        "          if f1 > best_f1:\n",
        "              best_f1 = f1\n",
        "              best_threshold = threshold\n",
        "      \n",
        "      # Convert predicted probabilities to binary predictions based on the best threshold\n",
        "      y_pred_binary = (self.y_pred >= best_threshold).astype(int)\n",
        "      \n",
        "      # Calculate accuracy metrics\n",
        "      accuracy = accuracy_score(self.y_test, y_pred_binary)\n",
        "      precision = precision_score(self.y_test, y_pred_binary)\n",
        "      recall = recall_score(self.y_test, y_pred_binary)\n",
        "      specificity = recall_score(self.y_test, y_pred_binary, pos_label=0)\n",
        "      roc_auc = self.roc_auc()\n",
        "      balanced_accuracy = balanced_accuracy_score(self.y_test, y_pred_binary)\n",
        "      \n",
        "      # Print the metrics\n",
        "      print(f\"Optimal Threshold: {best_threshold:.3f}\")\n",
        "      print(f\"F1 Score: {best_f1:.3f}\")\n",
        "      print(f\"Accuracy: {accuracy:.3f}\")\n",
        "      print(f\"Precision: {precision:.3f}\")\n",
        "      print(f\"Recall (Sensitivity): {recall:.3f}\")\n",
        "      print(f\"Specificity (True Negative Rate): {specificity:.3f}\")\n",
        "      print(f\"ROC AUC Score: {roc_auc:.3f}\")\n",
        "      print(f\"Balanced Accuracy: {balanced_accuracy:.3f}\")\n",
        "\n",
        "    \n",
        "    def plot_roc_auc(self):\n",
        "      if not self.is_model_trained:\n",
        "          raise RuntimeError(\"Model must be trained before it can be evaluated\")\n",
        "      if self.y_pred is None:\n",
        "        dtest = xgb.DMatrix(self.X_test)\n",
        "        self.y_pred = self.model.predict(dtest)\n",
        "      \n",
        "      fpr, tpr, _ = roc_curve(self.y_test, self.y_pred)\n",
        "      roc_auc = self.roc_auc()\n",
        "      plt.plot(fpr, tpr, label='ROC curve (AUC = %0.2f)' % roc_auc)\n",
        "      plt.plot([0, 1], [0, 1], 'k--')\n",
        "      plt.xlabel('False Positive Rate')\n",
        "      plt.ylabel('True Positive Rate')\n",
        "      plt.title('Receiver Operating Characteristic')\n",
        "      plt.legend(loc=\"lower right\")\n",
        "      plt.show()\n",
        "    def plot_predictions(self):\n",
        "      if self.y_pred is None:\n",
        "        dtest = xgb.DMatrix(self.X_test)\n",
        "        self.y_pred = self.model.predict(dtest)\n",
        "            \n",
        "      sns.regplot(x=self.y_pred, y=self.y_test, scatter_kws={'alpha': 0.3})\n",
        "      plt.xlabel('Predicted Probabilities')\n",
        "      plt.ylabel('True Labels')\n",
        "      plt.title('Predicted Probabilities vs. True Labels')\n",
        "      plt.show()\n",
        "    \n",
        "    \n",
        "    def plot_feature_importance(self, n_features =None):\n",
        "      if not self.is_model_trained:\n",
        "          raise RuntimeError(\"Model must be trained before feature importances can be evaluated\")\n",
        "\n",
        "      feature_importances = self.model.get_score(importance_type='weight')\n",
        "      if n_features is None:\n",
        "        n_features = len(feature_importances)\n",
        "\n",
        "      sorted_feature_importances = sorted(feature_importances.items(), key=lambda x: x[1], reverse=True)\n",
        "\n",
        "      # Extract feature names and importance scores\n",
        "      features = [x[0] for x in sorted_feature_importances]\n",
        "      importances = [x[1] for x in sorted_feature_importances]\n",
        "\n",
        "      # Create a bar plot of sorted feature importances\n",
        "      plt.figure(figsize=(8, 9.5))\n",
        "      plt.barh(features[0:(n_features-1)][::-1], \n",
        "               importances[0:(n_features-1)][::-1])\n",
        "      plt.xlabel('Importance')\n",
        "      plt.ylabel('Features')\n",
        "      plt.title(f'Top {n_features} Features')\n",
        "      plt.tight_layout()\n",
        "      plt.show()\n",
        "\n",
        "    def predict_prob(self, new_dataset, threshold = None): \n",
        "      if not self.is_model_trained:\n",
        "          raise RuntimeError(\"Model must be trained before new predictions can be made\")\n",
        "      if isinstance(new_dataset, pd.DataFrame):\n",
        "        data = new_dataset[self.X_train.columns]\n",
        "      elif isinstance(new_dataset, Dataset): \n",
        "        data = new_dataset.X[self.X_train.columns]\n",
        "      \n",
        "      dtest = xgb.DMatrix(data)\n",
        "      y = self.model.predict(dtest)\n",
        "      if threshold is None:\n",
        "        return y\n",
        "      elif isinstance(threshold, float):\n",
        "        ##ensure threshold is between 0 and 1\n",
        "        threshold = max(min(float(threshold), 1), 0)\n",
        "        print(f'obtaining model class using supplied threshold:{threshold}')\n",
        "        ##convert to class\n",
        "        y_class = (y >= threshold).astype(int)\n",
        "        return y_class\n",
        "      else:\n",
        "        print('threshold must be supplied as a float between 0 and 1 - returning probabilities instead!')\n",
        "        return y\n",
        "      \n",
        "      \n",
        "\n"
      ]
    },
    {
      "cell_type": "markdown",
      "metadata": {
        "id": "Wwaxdi8Os70c"
      },
      "source": [
        "## Read in training dataset\n",
        "\n"
      ]
    },
    {
      "cell_type": "code",
      "execution_count": null,
      "metadata": {
        "colab": {
          "base_uri": "https://localhost:8080/"
        },
        "id": "it89TWvV99Oj",
        "outputId": "d57fddb1-130d-4eac-df69-352b62cd57f8"
      },
      "outputs": [
        {
          "output_type": "execute_result",
          "data": {
            "text/plain": [
              "(307511, 200)"
            ]
          },
          "metadata": {},
          "execution_count": 5
        }
      ],
      "source": [
        "df= pd.read_csv('all_data_merged.csv')\n",
        "df.shape"
      ]
    },
    {
      "cell_type": "markdown",
      "metadata": {
        "id": "Fo3OaWyIvTml"
      },
      "source": [
        "Load previous results from single feature logistic regression deviance reduction % (performed in `02_credit_risk_eda_feature_selection.Rmd`). \n",
        "\n",
        "$$\n",
        "Deviance Reduction \\% = 100*\\left(\\frac{{\\text{{null deviance}} - \\text{{residual deviance}}}}{{\\text{{null deviance}}}}\\right)\n",
        "$$\n",
        "\n",
        "\n",
        "We will use this as a metric of feature importance. In order to save compute `less_relavent_features` can be imputed using basic methods such as median. Whereas `important_features` with missing data will be imputed by training decision trees to predict missing values. "
      ]
    },
    {
      "cell_type": "code",
      "execution_count": null,
      "metadata": {
        "id": "LGV0OZKUnCfl"
      },
      "outputs": [],
      "source": [
        "lr_results = pd.read_csv('logistic_regression_results.csv')\n",
        "important_features = lr_results.feature[lr_results.deviance_reduction >0.1]\n",
        "less_relavent_features = lr_results.feature[lr_results.deviance_reduction <= 0.1]"
      ]
    },
    {
      "cell_type": "code",
      "execution_count": null,
      "metadata": {
        "id": "kgRbzyAm6vqc"
      },
      "outputs": [],
      "source": [
        "impute_dict = {feature: 'median' for feature in less_relavent_features}\n",
        "impute_dict['own_car_age'] = 'percentile_95'"
      ]
    },
    {
      "cell_type": "markdown",
      "metadata": {
        "id": "_8ACkevAtk6C"
      },
      "source": [
        "Create a `Dataset` class instance, and use the `.preprocess()` method to perform data pre-processing steps. Supply `impute_dict` to state which columns shown undergo **basic imputations**. Reamianing columns will undergo **smart imputations** using `miceforest.ImputationKernel()` decision tree based imputation method."
      ]
    },
    {
      "cell_type": "code",
      "execution_count": null,
      "metadata": {
        "colab": {
          "base_uri": "https://localhost:8080/"
        },
        "id": "IebRLqVB8uDl",
        "outputId": "183d9765-c45b-417d-b897-e9555102fde8"
      },
      "outputs": [
        {
          "output_type": "stream",
          "name": "stdout",
          "text": [
            "Performing basic imputations based on 82 features supplied impute_dict\n",
            "Index(['sk_id_curr', 'cnt_children', 'amt_income_total', 'amt_credit',\n",
            "       'amt_annuity', 'amt_goods_price', 'region_population_relative',\n",
            "       'days_registration', 'days_id_publish', 'own_car_age',\n",
            "       ...\n",
            "       'most_recent_accepted', 'accepted_max_days_last_due',\n",
            "       'accepted_max_days_first_due', 'total_rejected_apps',\n",
            "       'total_rejected_credit', 'rejected_median_downpayment_rate',\n",
            "       'rejected_prop_w_downpayment', 'most_recent_rejected', 'accepted_rate',\n",
            "       'prop_credit_rejected'],\n",
            "      dtype='object', length=182)\n",
            "28\n",
            "Performing decision-tree based imputations of 28 remaining features with missing data\n",
            "Scaling numeric data\n",
            "One-hot-encoding categorical vars\n"
          ]
        }
      ],
      "source": [
        "data = Dataset(df, target = 'target')\n",
        "data.preprocess(impute_dict=impute_dict,\n",
        "                imputation_kernel_iterations=2, imputation_kernel_ntrees=45)"
      ]
    },
    {
      "cell_type": "markdown",
      "metadata": {
        "id": "sYOTfC43zPuK"
      },
      "source": [
        "Use `Dataset.split_data()` method to perform train-evaluation-test split on the dataset"
      ]
    },
    {
      "cell_type": "code",
      "execution_count": null,
      "metadata": {
        "colab": {
          "base_uri": "https://localhost:8080/",
          "height": 324
        },
        "id": "asnsdVo5L0SS",
        "outputId": "6cdc8aa3-cc99-4557-ea2a-38f809b37727"
      },
      "outputs": [
        {
          "output_type": "stream",
          "name": "stdout",
          "text": [
            "199881 training samples, 53815 evaluation samples and 53815 testing samples\n",
            "16177 (8.093%) positives in training set\n",
            "4311 (8.011%) positives in evaluation set\n",
            "4337 (8.059)% positives in testing set\n"
          ]
        },
        {
          "output_type": "execute_result",
          "data": {
            "text/plain": [
              "        sk_id_curr  name_contract_type  flag_own_car  flag_own_realty  \\\n",
              "115761   -0.427401                   0             0                1   \n",
              "143870   -0.110492                   0             0                1   \n",
              "305637    1.711562                   0             1                1   \n",
              "\n",
              "        cnt_children  amt_income_total  amt_credit  amt_annuity  \\\n",
              "115761     -0.577538          0.142129   -0.034848    -0.160244   \n",
              "143870     -0.577538         -0.332309   -1.197610    -1.398149   \n",
              "305637     -0.577538         -0.142533    1.149279     0.280335   \n",
              "\n",
              "        amt_goods_price  region_population_relative  ...  \\\n",
              "115761         0.126790                    0.714822  ...   \n",
              "143870        -1.140120                    0.399377  ...   \n",
              "305637         1.052609                    0.127023  ...   \n",
              "\n",
              "        wallsmaterial_mode_Stone, brick  wallsmaterial_mode_Wooden  \\\n",
              "115761                                1                          0   \n",
              "143870                                0                          0   \n",
              "305637                                0                          0   \n",
              "\n",
              "        wallsmaterial_mode_other  emergencystate_mode_No  \\\n",
              "115761                         0                       1   \n",
              "143870                         1                       0   \n",
              "305637                         0                       1   \n",
              "\n",
              "        emergencystate_mode_Yes  emergencystate_mode_other  age_group_30-45  \\\n",
              "115761                        0                          0                0   \n",
              "143870                        0                          1                0   \n",
              "305637                        0                          0                0   \n",
              "\n",
              "        age_group_45-60  age_group_60+  age_group_under 30  \n",
              "115761                0              1                   0  \n",
              "143870                1              0                   0  \n",
              "305637                1              0                   0  \n",
              "\n",
              "[3 rows x 302 columns]"
            ],
            "text/html": [
              "\n",
              "  <div id=\"df-48696e43-99fd-479e-965b-47c22cdd49c9\">\n",
              "    <div class=\"colab-df-container\">\n",
              "      <div>\n",
              "<style scoped>\n",
              "    .dataframe tbody tr th:only-of-type {\n",
              "        vertical-align: middle;\n",
              "    }\n",
              "\n",
              "    .dataframe tbody tr th {\n",
              "        vertical-align: top;\n",
              "    }\n",
              "\n",
              "    .dataframe thead th {\n",
              "        text-align: right;\n",
              "    }\n",
              "</style>\n",
              "<table border=\"1\" class=\"dataframe\">\n",
              "  <thead>\n",
              "    <tr style=\"text-align: right;\">\n",
              "      <th></th>\n",
              "      <th>sk_id_curr</th>\n",
              "      <th>name_contract_type</th>\n",
              "      <th>flag_own_car</th>\n",
              "      <th>flag_own_realty</th>\n",
              "      <th>cnt_children</th>\n",
              "      <th>amt_income_total</th>\n",
              "      <th>amt_credit</th>\n",
              "      <th>amt_annuity</th>\n",
              "      <th>amt_goods_price</th>\n",
              "      <th>region_population_relative</th>\n",
              "      <th>...</th>\n",
              "      <th>wallsmaterial_mode_Stone, brick</th>\n",
              "      <th>wallsmaterial_mode_Wooden</th>\n",
              "      <th>wallsmaterial_mode_other</th>\n",
              "      <th>emergencystate_mode_No</th>\n",
              "      <th>emergencystate_mode_Yes</th>\n",
              "      <th>emergencystate_mode_other</th>\n",
              "      <th>age_group_30-45</th>\n",
              "      <th>age_group_45-60</th>\n",
              "      <th>age_group_60+</th>\n",
              "      <th>age_group_under 30</th>\n",
              "    </tr>\n",
              "  </thead>\n",
              "  <tbody>\n",
              "    <tr>\n",
              "      <th>115761</th>\n",
              "      <td>-0.427401</td>\n",
              "      <td>0</td>\n",
              "      <td>0</td>\n",
              "      <td>1</td>\n",
              "      <td>-0.577538</td>\n",
              "      <td>0.142129</td>\n",
              "      <td>-0.034848</td>\n",
              "      <td>-0.160244</td>\n",
              "      <td>0.126790</td>\n",
              "      <td>0.714822</td>\n",
              "      <td>...</td>\n",
              "      <td>1</td>\n",
              "      <td>0</td>\n",
              "      <td>0</td>\n",
              "      <td>1</td>\n",
              "      <td>0</td>\n",
              "      <td>0</td>\n",
              "      <td>0</td>\n",
              "      <td>0</td>\n",
              "      <td>1</td>\n",
              "      <td>0</td>\n",
              "    </tr>\n",
              "    <tr>\n",
              "      <th>143870</th>\n",
              "      <td>-0.110492</td>\n",
              "      <td>0</td>\n",
              "      <td>0</td>\n",
              "      <td>1</td>\n",
              "      <td>-0.577538</td>\n",
              "      <td>-0.332309</td>\n",
              "      <td>-1.197610</td>\n",
              "      <td>-1.398149</td>\n",
              "      <td>-1.140120</td>\n",
              "      <td>0.399377</td>\n",
              "      <td>...</td>\n",
              "      <td>0</td>\n",
              "      <td>0</td>\n",
              "      <td>1</td>\n",
              "      <td>0</td>\n",
              "      <td>0</td>\n",
              "      <td>1</td>\n",
              "      <td>0</td>\n",
              "      <td>1</td>\n",
              "      <td>0</td>\n",
              "      <td>0</td>\n",
              "    </tr>\n",
              "    <tr>\n",
              "      <th>305637</th>\n",
              "      <td>1.711562</td>\n",
              "      <td>0</td>\n",
              "      <td>1</td>\n",
              "      <td>1</td>\n",
              "      <td>-0.577538</td>\n",
              "      <td>-0.142533</td>\n",
              "      <td>1.149279</td>\n",
              "      <td>0.280335</td>\n",
              "      <td>1.052609</td>\n",
              "      <td>0.127023</td>\n",
              "      <td>...</td>\n",
              "      <td>0</td>\n",
              "      <td>0</td>\n",
              "      <td>0</td>\n",
              "      <td>1</td>\n",
              "      <td>0</td>\n",
              "      <td>0</td>\n",
              "      <td>0</td>\n",
              "      <td>1</td>\n",
              "      <td>0</td>\n",
              "      <td>0</td>\n",
              "    </tr>\n",
              "  </tbody>\n",
              "</table>\n",
              "<p>3 rows × 302 columns</p>\n",
              "</div>\n",
              "      <button class=\"colab-df-convert\" onclick=\"convertToInteractive('df-48696e43-99fd-479e-965b-47c22cdd49c9')\"\n",
              "              title=\"Convert this dataframe to an interactive table.\"\n",
              "              style=\"display:none;\">\n",
              "        \n",
              "  <svg xmlns=\"http://www.w3.org/2000/svg\" height=\"24px\"viewBox=\"0 0 24 24\"\n",
              "       width=\"24px\">\n",
              "    <path d=\"M0 0h24v24H0V0z\" fill=\"none\"/>\n",
              "    <path d=\"M18.56 5.44l.94 2.06.94-2.06 2.06-.94-2.06-.94-.94-2.06-.94 2.06-2.06.94zm-11 1L8.5 8.5l.94-2.06 2.06-.94-2.06-.94L8.5 2.5l-.94 2.06-2.06.94zm10 10l.94 2.06.94-2.06 2.06-.94-2.06-.94-.94-2.06-.94 2.06-2.06.94z\"/><path d=\"M17.41 7.96l-1.37-1.37c-.4-.4-.92-.59-1.43-.59-.52 0-1.04.2-1.43.59L10.3 9.45l-7.72 7.72c-.78.78-.78 2.05 0 2.83L4 21.41c.39.39.9.59 1.41.59.51 0 1.02-.2 1.41-.59l7.78-7.78 2.81-2.81c.8-.78.8-2.07 0-2.86zM5.41 20L4 18.59l7.72-7.72 1.47 1.35L5.41 20z\"/>\n",
              "  </svg>\n",
              "      </button>\n",
              "      \n",
              "  <style>\n",
              "    .colab-df-container {\n",
              "      display:flex;\n",
              "      flex-wrap:wrap;\n",
              "      gap: 12px;\n",
              "    }\n",
              "\n",
              "    .colab-df-convert {\n",
              "      background-color: #E8F0FE;\n",
              "      border: none;\n",
              "      border-radius: 50%;\n",
              "      cursor: pointer;\n",
              "      display: none;\n",
              "      fill: #1967D2;\n",
              "      height: 32px;\n",
              "      padding: 0 0 0 0;\n",
              "      width: 32px;\n",
              "    }\n",
              "\n",
              "    .colab-df-convert:hover {\n",
              "      background-color: #E2EBFA;\n",
              "      box-shadow: 0px 1px 2px rgba(60, 64, 67, 0.3), 0px 1px 3px 1px rgba(60, 64, 67, 0.15);\n",
              "      fill: #174EA6;\n",
              "    }\n",
              "\n",
              "    [theme=dark] .colab-df-convert {\n",
              "      background-color: #3B4455;\n",
              "      fill: #D2E3FC;\n",
              "    }\n",
              "\n",
              "    [theme=dark] .colab-df-convert:hover {\n",
              "      background-color: #434B5C;\n",
              "      box-shadow: 0px 1px 3px 1px rgba(0, 0, 0, 0.15);\n",
              "      filter: drop-shadow(0px 1px 2px rgba(0, 0, 0, 0.3));\n",
              "      fill: #FFFFFF;\n",
              "    }\n",
              "  </style>\n",
              "\n",
              "      <script>\n",
              "        const buttonEl =\n",
              "          document.querySelector('#df-48696e43-99fd-479e-965b-47c22cdd49c9 button.colab-df-convert');\n",
              "        buttonEl.style.display =\n",
              "          google.colab.kernel.accessAllowed ? 'block' : 'none';\n",
              "\n",
              "        async function convertToInteractive(key) {\n",
              "          const element = document.querySelector('#df-48696e43-99fd-479e-965b-47c22cdd49c9');\n",
              "          const dataTable =\n",
              "            await google.colab.kernel.invokeFunction('convertToInteractive',\n",
              "                                                     [key], {});\n",
              "          if (!dataTable) return;\n",
              "\n",
              "          const docLinkHtml = 'Like what you see? Visit the ' +\n",
              "            '<a target=\"_blank\" href=https://colab.research.google.com/notebooks/data_table.ipynb>data table notebook</a>'\n",
              "            + ' to learn more about interactive tables.';\n",
              "          element.innerHTML = '';\n",
              "          dataTable['output_type'] = 'display_data';\n",
              "          await google.colab.output.renderOutput(dataTable, element);\n",
              "          const docLink = document.createElement('div');\n",
              "          docLink.innerHTML = docLinkHtml;\n",
              "          element.appendChild(docLink);\n",
              "        }\n",
              "      </script>\n",
              "    </div>\n",
              "  </div>\n",
              "  "
            ]
          },
          "metadata": {},
          "execution_count": 9
        }
      ],
      "source": [
        "data.split_data(test_size=0.175, eval_size=0.175)\n",
        "data.X_train.head(3)"
      ]
    },
    {
      "cell_type": "markdown",
      "metadata": {
        "id": "yBKcrTDSQC7b"
      },
      "source": [
        "## Train a model containing all features\n",
        "\n",
        "Use the `Model` class to train an XGboost classifier. We can feed the `Dataset` object directly into `Model`, so train-eval-test splits can be extracted. Then use `select_features` to perform feature selection."
      ]
    },
    {
      "cell_type": "code",
      "execution_count": null,
      "metadata": {
        "id": "xvXLiCAdNlMY"
      },
      "outputs": [],
      "source": [
        "model_full = Model(dataset_class=data)\n"
      ]
    },
    {
      "cell_type": "code",
      "execution_count": null,
      "metadata": {
        "colab": {
          "base_uri": "https://localhost:8080/"
        },
        "id": "6s1LcWHQgBI0",
        "outputId": "da7ef9aa-c88e-4d27-a084-970b013b0d33"
      },
      "outputs": [
        {
          "output_type": "stream",
          "name": "stdout",
          "text": [
            "Model training completed\n"
          ]
        }
      ],
      "source": [
        "xgb_params = {\n",
        "    'max_depth': 10,\n",
        "    'learning_rate': 0.01,\n",
        "    'objective': 'binary:logistic',\n",
        "    'eval_metric': 'auc',\n",
        "    'scale_pos_weight': 5,\n",
        "    'subsample':0.8,\n",
        "    'colsample_bytree':0.8    \n",
        "}\n",
        "\n",
        "model_full.train_model(xgb_params,num_boost_round=1500, early_stopping_rounds=25, print_training_evaluation=False)\n"
      ]
    },
    {
      "cell_type": "code",
      "execution_count": null,
      "metadata": {
        "colab": {
          "base_uri": "https://localhost:8080/"
        },
        "id": "MzAxZbbyGgzs",
        "outputId": "6b64a3ad-df83-40b0-c26f-a6d81da16397"
      },
      "outputs": [
        {
          "output_type": "execute_result",
          "data": {
            "text/plain": [
              "663"
            ]
          },
          "metadata": {},
          "execution_count": 12
        }
      ],
      "source": [
        "model_full.model.best_iteration"
      ]
    },
    {
      "cell_type": "code",
      "source": [
        "best_eval_score = model_full.model.best_score\n",
        "print(f\"best ROC-AUC score on evaluation set = {best_eval_score:.3f}\")\n"
      ],
      "metadata": {
        "colab": {
          "base_uri": "https://localhost:8080/"
        },
        "id": "MsAmMiIVDNxy",
        "outputId": "6b4225a3-1f41-4060-88e2-b1a9d61048eb"
      },
      "execution_count": null,
      "outputs": [
        {
          "output_type": "stream",
          "name": "stdout",
          "text": [
            "best ROC-AUC score on evaluation set = 0.775\n"
          ]
        }
      ]
    },
    {
      "cell_type": "code",
      "execution_count": null,
      "metadata": {
        "colab": {
          "base_uri": "https://localhost:8080/"
        },
        "id": "pSnjl7C_JRXN",
        "outputId": "d5140d95-03b3-4663-e6d0-1577c81b15d2"
      },
      "outputs": [
        {
          "output_type": "stream",
          "name": "stdout",
          "text": [
            "Optimal Threshold: 0.350\n",
            "F1 Score: 0.322\n",
            "Accuracy: 0.844\n",
            "Precision: 0.248\n",
            "Recall (Sensitivity): 0.460\n",
            "Specificity (True Negative Rate): 0.878\n",
            "ROC AUC Score: 0.773\n",
            "Balanced Accuracy: 0.669\n"
          ]
        }
      ],
      "source": [
        "model_full.evaluate_model()"
      ]
    },
    {
      "cell_type": "markdown",
      "metadata": {
        "id": "DIupMVY3pGZ7"
      },
      "source": [
        "### Take a look at feature importances - what is the model using to make predictions?\n",
        "\n",
        "`ext_source_1|2|3` are the top three features these normalised datapoints supplied in the dataset frm unknown external sources\n",
        "\n",
        "`age`, `yrs_employed` and `perc_adult_life_employed` are all high-importance features"
      ]
    },
    {
      "cell_type": "code",
      "execution_count": null,
      "metadata": {
        "colab": {
          "base_uri": "https://localhost:8080/",
          "height": 957
        },
        "id": "6qHRRpSdPHtM",
        "outputId": "63662b8f-8ed1-499c-a4d9-bea491974657"
      },
      "outputs": [
        {
          "output_type": "display_data",
          "data": {
            "text/plain": [
              "<Figure size 800x950 with 1 Axes>"
            ],
            "image/png": "[encoded data removed]"
          },
          "metadata": {}
        }
      ],
      "source": [
        "model_full.plot_feature_importance(n_features= 30)"
      ]
    },
    {
      "cell_type": "markdown",
      "metadata": {
        "id": "D6gXV9w85I5C"
      },
      "source": [
        "## Perform `BayesianOptimisation` of hyperparams\n",
        "\n",
        "Set up an `objective_function()` to optimisie our model using `BayesianOptimisation()`. Limit model training to `num_boost_round=175` so increased speed, allowing more iterations of bayesian search. We can then retrain a model with the best hyperparamters for more boosting rounds.  "
      ]
    },
    {
      "cell_type": "code",
      "execution_count": null,
      "metadata": {
        "id": "sghgv_HN5HxW"
      },
      "outputs": [],
      "source": [
        "def objective_function(learning_rate,max_depth, \n",
        "                       scale_pos_weight, subsample,\n",
        "                       colsample_bytree):\n",
        "\n",
        "  xgb_params = {\n",
        "    'max_depth': int(max_depth),\n",
        "    'learning_rate': learning_rate,\n",
        "    'objective': 'binary:logistic',\n",
        "    'eval_metric': 'auc',\n",
        "    'scale_pos_weight': scale_pos_weight,\n",
        "    'subsample':subsample,\n",
        "    'colsample_bytree':colsample_bytree,\n",
        "    'eval_metric':'auc'\n",
        "}\n",
        "\n",
        "  model = Model(dataset_class=data)\n",
        "  #model.select_features()\n",
        "  model.train_model(xgb_params,\n",
        "                          num_boost_round=250,\n",
        "                          early_stopping_rounds=5,\n",
        "                          print_training_evaluation=False)\n",
        "\n",
        "  # Make predictions and calculate evaluation metric (e.g., ROC-AUC)\n",
        "  roc_auc = model.model.best_score\n",
        "  \n",
        "  # Return ROC-AUC value for BayesianOptimization to maximise\n",
        "  return roc_auc\n",
        "        \n",
        "# Define the hyperparameter search space for Bayesian optimization\n",
        "pbounds = {\n",
        "    'learning_rate': (0.0001, 0.1),\n",
        "    'max_depth': (3, 20),\n",
        "    'subsample': (0.3, 1),\n",
        "    'colsample_bytree': (0.3, 1),\n",
        "    'scale_pos_weight': (6,20)\n",
        "    #'num_features': (25,data.X_train.shape[1])\n",
        "}\n",
        "\n",
        "\n",
        "# Perform Bayesian optimization\n",
        "optimizer = BayesianOptimization(\n",
        "    f=objective_function,\n",
        "    pbounds=pbounds,\n",
        "    random_state=42,\n",
        "    verbose=2\n",
        ")\n"
      ]
    },
    {
      "cell_type": "code",
      "source": [
        "optimizer.probe({\n",
        "    'learning_rate': 0.01,\n",
        "    'max_depth': 10,\n",
        "    'subsample':0.8,\n",
        "    'colsample_bytree':0.8,\n",
        "    'scale_pos_weight': 5        \n",
        "})\n",
        "optimizer.maximize(init_points=10, \n",
        "                   n_iter=25)"
      ],
      "metadata": {
        "colab": {
          "base_uri": "https://localhost:8080/"
        },
        "id": "az2uM5lh0avZ",
        "outputId": "76b79830-3dfa-4538-e9a0-01f789294bfb"
      },
      "execution_count": null,
      "outputs": [
        {
          "output_type": "stream",
          "name": "stdout",
          "text": [
            "|   iter    |  target   | colsam... | learni... | max_depth | scale_... | subsample |\n",
            "-------------------------------------------------------------------------------------\n",
            "Model training completed\n",
            "| \u001b[0m1        \u001b[0m | \u001b[0m0.7625   \u001b[0m | \u001b[0m0.8      \u001b[0m | \u001b[0m0.01     \u001b[0m | \u001b[0m10.0     \u001b[0m | \u001b[0m5.0      \u001b[0m | \u001b[0m0.8      \u001b[0m |\n",
            "Model training completed\n",
            "| \u001b[0m2        \u001b[0m | \u001b[0m0.725    \u001b[0m | \u001b[0m0.5622   \u001b[0m | \u001b[0m0.09508  \u001b[0m | \u001b[0m15.44    \u001b[0m | \u001b[0m14.38    \u001b[0m | \u001b[0m0.4092   \u001b[0m |\n",
            "Model training completed\n",
            "| \u001b[0m3        \u001b[0m | \u001b[0m0.7421   \u001b[0m | \u001b[0m0.4092   \u001b[0m | \u001b[0m0.005903 \u001b[0m | \u001b[0m17.72    \u001b[0m | \u001b[0m14.42    \u001b[0m | \u001b[0m0.7957   \u001b[0m |\n",
            "Model training completed\n",
            "| \u001b[0m4        \u001b[0m | \u001b[0m0.705    \u001b[0m | \u001b[0m0.3144   \u001b[0m | \u001b[0m0.09699  \u001b[0m | \u001b[0m17.15    \u001b[0m | \u001b[0m8.973    \u001b[0m | \u001b[0m0.4273   \u001b[0m |\n",
            "Model training completed\n",
            "| \u001b[0m5        \u001b[0m | \u001b[0m0.7491   \u001b[0m | \u001b[0m0.4284   \u001b[0m | \u001b[0m0.03049  \u001b[0m | \u001b[0m11.92    \u001b[0m | \u001b[0m12.05    \u001b[0m | \u001b[0m0.5039   \u001b[0m |\n",
            "Model training completed\n",
            "| \u001b[0m6        \u001b[0m | \u001b[0m0.7554   \u001b[0m | \u001b[0m0.7283   \u001b[0m | \u001b[0m0.01404  \u001b[0m | \u001b[0m7.966    \u001b[0m | \u001b[0m11.13    \u001b[0m | \u001b[0m0.6192   \u001b[0m |\n",
            "Model training completed\n",
            "| \u001b[0m7        \u001b[0m | \u001b[0m0.7543   \u001b[0m | \u001b[0m0.8496   \u001b[0m | \u001b[0m0.02005  \u001b[0m | \u001b[0m11.74    \u001b[0m | \u001b[0m14.29    \u001b[0m | \u001b[0m0.3325   \u001b[0m |\n",
            "Model training completed\n",
            "| \u001b[0m8        \u001b[0m | \u001b[0m0.7285   \u001b[0m | \u001b[0m0.7253   \u001b[0m | \u001b[0m0.01714  \u001b[0m | \u001b[0m4.106    \u001b[0m | \u001b[0m19.28    \u001b[0m | \u001b[0m0.9759   \u001b[0m |\n",
            "Model training completed\n",
            "| \u001b[95m9        \u001b[0m | \u001b[95m0.7712   \u001b[0m | \u001b[95m0.8659   \u001b[0m | \u001b[95m0.03053  \u001b[0m | \u001b[95m4.66     \u001b[0m | \u001b[95m15.58    \u001b[0m | \u001b[95m0.6081   \u001b[0m |\n",
            "Model training completed\n",
            "| \u001b[0m10       \u001b[0m | \u001b[0m0.7508   \u001b[0m | \u001b[0m0.3854   \u001b[0m | \u001b[0m0.04957  \u001b[0m | \u001b[0m3.585    \u001b[0m | \u001b[0m18.73    \u001b[0m | \u001b[0m0.4811   \u001b[0m |\n",
            "Model training completed\n",
            "| \u001b[0m11       \u001b[0m | \u001b[0m0.7556   \u001b[0m | \u001b[0m0.7638   \u001b[0m | \u001b[0m0.03124  \u001b[0m | \u001b[0m11.84    \u001b[0m | \u001b[0m13.65    \u001b[0m | \u001b[0m0.4294   \u001b[0m |\n",
            "Model training completed\n",
            "| \u001b[0m12       \u001b[0m | \u001b[0m0.7687   \u001b[0m | \u001b[0m0.3      \u001b[0m | \u001b[0m0.09769  \u001b[0m | \u001b[0m3.197    \u001b[0m | \u001b[0m16.31    \u001b[0m | \u001b[0m0.3      \u001b[0m |\n",
            "Model training completed\n",
            "| \u001b[0m13       \u001b[0m | \u001b[0m0.7697   \u001b[0m | \u001b[0m0.3      \u001b[0m | \u001b[0m0.09989  \u001b[0m | \u001b[0m3.885    \u001b[0m | \u001b[0m13.53    \u001b[0m | \u001b[0m0.3      \u001b[0m |\n",
            "Model training completed\n",
            "| \u001b[0m14       \u001b[0m | \u001b[0m0.761    \u001b[0m | \u001b[0m0.3      \u001b[0m | \u001b[0m0.1      \u001b[0m | \u001b[0m6.859    \u001b[0m | \u001b[0m14.36    \u001b[0m | \u001b[0m0.3      \u001b[0m |\n",
            "Model training completed\n",
            "| \u001b[0m15       \u001b[0m | \u001b[0m0.6859   \u001b[0m | \u001b[0m1.0      \u001b[0m | \u001b[0m0.0001   \u001b[0m | \u001b[0m3.0      \u001b[0m | \u001b[0m10.47    \u001b[0m | \u001b[0m1.0      \u001b[0m |\n",
            "Model training completed\n",
            "| \u001b[0m16       \u001b[0m | \u001b[0m0.7529   \u001b[0m | \u001b[0m1.0      \u001b[0m | \u001b[0m0.1      \u001b[0m | \u001b[0m9.751    \u001b[0m | \u001b[0m7.902    \u001b[0m | \u001b[0m0.3      \u001b[0m |\n",
            "Model training completed\n",
            "| \u001b[0m17       \u001b[0m | \u001b[0m0.6745   \u001b[0m | \u001b[0m1.0      \u001b[0m | \u001b[0m0.0001   \u001b[0m | \u001b[0m20.0     \u001b[0m | \u001b[0m20.0     \u001b[0m | \u001b[0m1.0      \u001b[0m |\n",
            "Model training completed\n",
            "| \u001b[0m18       \u001b[0m | \u001b[0m0.7488   \u001b[0m | \u001b[0m0.4849   \u001b[0m | \u001b[0m0.03272  \u001b[0m | \u001b[0m11.31    \u001b[0m | \u001b[0m19.95    \u001b[0m | \u001b[0m0.7729   \u001b[0m |\n",
            "Model training completed\n",
            "| \u001b[0m19       \u001b[0m | \u001b[0m0.7668   \u001b[0m | \u001b[0m0.3      \u001b[0m | \u001b[0m0.1      \u001b[0m | \u001b[0m6.959    \u001b[0m | \u001b[0m6.0      \u001b[0m | \u001b[0m0.3      \u001b[0m |\n",
            "Model training completed\n",
            "| \u001b[0m20       \u001b[0m | \u001b[0m0.7453   \u001b[0m | \u001b[0m0.3      \u001b[0m | \u001b[0m0.1      \u001b[0m | \u001b[0m8.665    \u001b[0m | \u001b[0m17.23    \u001b[0m | \u001b[0m0.3      \u001b[0m |\n"
          ]
        }
      ]
    },
    {
      "cell_type": "code",
      "source": [
        "best_params = optimizer.max['params']\n",
        "best_params['max_depth'] = int(best_params['max_depth'])\n",
        "best_params['objective'] ='binary:logistic'\n",
        "best_params['eval_metric']='auc'\n",
        "\n",
        "model = Model(dataset_class=data)\n",
        "model.select_features(int(best_params['num_features']))\n",
        "best_params.pop('num_features')\n",
        "model.train_model(best_params,\n",
        "                        num_boost_round=1250,\n",
        "                        early_stopping_rounds=50,\n",
        "                        print_training_evaluation=True)"
      ],
      "metadata": {
        "id": "_5nB9g-M4bRl"
      },
      "execution_count": null,
      "outputs": []
    },
    {
      "cell_type": "code",
      "source": [
        "model.evaluate_model()"
      ],
      "metadata": {
        "id": "CNCyh7W449xm"
      },
      "execution_count": null,
      "outputs": []
    },
    {
      "cell_type": "code",
      "source": [
        "model.plot_feature_importance(n_features=30)"
      ],
      "metadata": {
        "id": "Bn86vpI18q4k"
      },
      "execution_count": null,
      "outputs": []
    },
    {
      "cell_type": "markdown",
      "metadata": {
        "id": "rrOr-AwdkTjy"
      },
      "source": [
        "## Train a model using just the 75 best features\n",
        "\n",
        "How well can the model perform using just the top 75 `(25%)` of features.  "
      ]
    },
    {
      "cell_type": "code",
      "execution_count": null,
      "metadata": {
        "id": "v7rOVjJSQIhU"
      },
      "outputs": [],
      "source": [
        "model_top75 = Model(dataset_class=data)\n",
        "model_top75.select_features(num_features=75)\n",
        "print(f\"data has {data.X_train.shape[1]} features, model contains {model_top75.X_train.shape[1]} features\")"
      ]
    },
    {
      "cell_type": "code",
      "execution_count": null,
      "metadata": {
        "id": "b8J_UlMhS2e7"
      },
      "outputs": [],
      "source": [
        "model_top75.selected_features"
      ]
    },
    {
      "cell_type": "code",
      "execution_count": null,
      "metadata": {
        "id": "eQRCZpHYTr_5"
      },
      "outputs": [],
      "source": [
        "##train the feature selected model with same param dictionary \n",
        "model_top75.train_model(xgb_params)"
      ]
    },
    {
      "cell_type": "markdown",
      "metadata": {
        "id": "WAjmCfc_kzvR"
      },
      "source": [
        "### evaluate the performance of `model_top75`\n",
        "\n",
        "Performance is very slighly reduced compared to all features ROC-AUC is 0.749 (0.77 in full model), and F1 score is 0.299 (0.319 in full model). This shows that we can retain almost full performance from 25% of the features. "
      ]
    },
    {
      "cell_type": "code",
      "execution_count": null,
      "metadata": {
        "id": "FLbHI_IQjuwL"
      },
      "outputs": [],
      "source": [
        "model_top75.evaluate_model()"
      ]
    },
    {
      "cell_type": "code",
      "execution_count": null,
      "metadata": {
        "id": "YmAbBkUMj2l8"
      },
      "outputs": [],
      "source": [
        "model_top75.plot_roc_auc()"
      ]
    },
    {
      "cell_type": "code",
      "execution_count": null,
      "metadata": {
        "id": "kn30b65VkA8n"
      },
      "outputs": [],
      "source": [
        "model_top75.plot_feature_importance(n_features=30)"
      ]
    },
    {
      "cell_type": "code",
      "execution_count": null,
      "metadata": {
        "id": "CyYg8ispi6TC"
      },
      "outputs": [],
      "source": [
        "feature_importances = model_top75.model.get_score(importance_type='weight')\n",
        "sorted_feature_importances = sorted(feature_importances.items(), key=lambda x: x[1], reverse=True)[0:33]\n",
        "# Extract feature names and importance scores\n",
        "features = [x[0] for x in sorted_feature_importances if not x[0].startswith('ext_source')]\n",
        "\n",
        "features"
      ]
    },
    {
      "cell_type": "code",
      "execution_count": null,
      "metadata": {
        "id": "O53fYcesSek3"
      },
      "outputs": [],
      "source": [
        "##drop \"ext_source_columns\"\n",
        "\n",
        "data.X_train = data.X_train[features]\n",
        "data.X_eval = data.X_eval[features]\n",
        "data.X_test = data.X_test[features]\n",
        "xgb_params2 = {\n",
        "    'max_depth': 10,\n",
        "    'learning_rate': 0.01,\n",
        "    'objective': 'binary:logistic',\n",
        "    'eval_metric': 'auc',\n",
        "    'scale_pos_weight': 15,\n",
        "    'subsample':0.7,\n",
        "    'colsample_bytree':1\n",
        "}\n",
        "\n",
        "model_simple = Model(dataset_class=data)\n",
        "model_simple.train_model(xgb_params2,num_boost_round =250, early_stopping_rounds = 50)\n",
        "model_simple.evaluate_model()"
      ]
    },
    {
      "cell_type": "code",
      "execution_count": null,
      "metadata": {
        "id": "OIziKiobVZS1"
      },
      "outputs": [],
      "source": [
        "model_simple.plot_feature_importance(n_features = 31)"
      ]
    },
    {
      "cell_type": "code",
      "execution_count": null,
      "metadata": {
        "id": "LSKttB7eiS9j"
      },
      "outputs": [],
      "source": [
        "model_top50.plot_roc_auc()"
      ]
    },
    {
      "cell_type": "code",
      "execution_count": null,
      "metadata": {
        "id": "X6oTn5Y0iba_"
      },
      "outputs": [],
      "source": [
        "model_top50.selected_features"
      ]
    },
    {
      "cell_type": "markdown",
      "metadata": {
        "id": "LW4RZKarSbjP"
      },
      "source": [
        "## Make predictions from test dataset"
      ]
    },
    {
      "cell_type": "code",
      "execution_count": null,
      "metadata": {
        "id": "5GCmPlcfvZAx"
      },
      "outputs": [],
      "source": [
        "##import test dataset \n",
        "test = pd.read_csv('all_TEST_data_merged.csv')\n",
        "\n",
        "test_data = Dataset(test, target = None, is_test=True,scaler = data.scaler)\n",
        "test_data.preprocess(impute_dict=impute_dict,\n",
        "                     final_X_cols=model_full.X_train.columns,\n",
        "                     imputation_kernel_iterations=2,\n",
        "                     imputation_kernel_ntrees=50)\n",
        "\n",
        "test_data.X.shape"
      ]
    },
    {
      "cell_type": "code",
      "execution_count": null,
      "metadata": {
        "id": "0JkLqTsQxeO5"
      },
      "outputs": [],
      "source": [
        "test_y_pred = model_full.predict_prob(new_dataset=test_data)\n",
        "np.sum(test_y_pred>0.65)/len(test_y_pred)"
      ]
    },
    {
      "cell_type": "markdown",
      "metadata": {
        "id": "vW2ZKP2CqXrH"
      },
      "source": [
        "\n",
        "## Make predictions based on new test data\n",
        "\n",
        "\n",
        "\n",
        "![image.png](data:image/png;base64,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)"
      ]
    },
    {
      "cell_type": "code",
      "execution_count": null,
      "metadata": {
        "id": "yaYjEm_Y4iwD"
      },
      "outputs": [],
      "source": [
        "test['target']=test_y_pred\n",
        "test['sk_id_curr'] = test['sk_id_curr'].astype('int')\n",
        "kaggle_submission = test[['sk_id_curr','target']]\n",
        "kaggle_submission.to_csv('kaggle_submission_full_model.csv', index=False)\n",
        "kaggle_submission.head(10)"
      ]
    },
    {
      "cell_type": "code",
      "execution_count": null,
      "metadata": {
        "id": "PE37_fDAQIr3"
      },
      "outputs": [],
      "source": [
        "test_df_170_features = test_data.X[model_top170.selected_features]\n",
        "test_y_pred_model170 = model_top170.predict_prob(new_dataset=test_df_170_features)\n",
        "test['target']=test_y_pred_model170\n",
        "kaggle_submission2 = test[['sk_id_curr','target']]\n",
        "kaggle_submission2.to_csv('kaggle_submission_170_feature_model.csv', index=False)\n",
        "kaggle_submission2.head(10)"
      ]
    },
    {
      "cell_type": "code",
      "execution_count": null,
      "metadata": {
        "id": "79_SfosR8pUQ"
      },
      "outputs": [],
      "source": [
        "kaggle_submission"
      ]
    }
  ],
  "metadata": {
    "colab": {
      "provenance": [],
      "include_colab_link": true
    },
    "kernelspec": {
      "display_name": "Python 3",
      "name": "python3"
    },
    "language_info": {
      "name": "python"
    }
  },
  "nbformat": 4,
  "nbformat_minor": 0
}